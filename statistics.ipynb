{
 "cells": [
  {
   "cell_type": "code",
   "execution_count": 5,
   "metadata": {},
   "outputs": [],
   "source": [
    "from dataloader import *\n",
    "\n",
    "from sklearn.preprocessing import StandardScaler\n",
    "from sklearn.decomposition import PCA\n",
    "import matplotlib.pyplot as plt\n",
    "import seaborn as sns\n",
    "import numpy as np\n",
    "import pandas as pd\n",
    "import os"
   ]
  },
  {
   "cell_type": "code",
   "execution_count": null,
   "metadata": {},
   "outputs": [
    {
     "data": {
      "text/plain": [
       "<matplotlib.legend.Legend at 0x7426a2bc7680>"
      ]
     },
     "execution_count": 11,
     "metadata": {},
     "output_type": "execute_result"
    },
    {
     "data": {
      "image/png": "[encoded data removed]",
      "text/plain": [
       "<Figure size 640x480 with 1 Axes>"
      ]
     },
     "metadata": {},
     "output_type": "display_data"
    }
   ],
   "source": [
    "training_dataset = SlidingDataset(\n",
    "    parquet_file=\"Dataset/VG5_generator_data_training_measurements.parquet\",\n",
    "    operating_mode=\"turbine\",\n",
    "    transient=False,\n",
    "    window_size=1,\n",
    "    device=\"cpu\",\n",
    "    features=[],\n",
    "    downsampling=32,\n",
    ")\n",
    "testing_dataset = SlidingDataset(\n",
    "    parquet_file=\"Dataset/VG5_generator_data_testing_synthetic_01_measurements.parquet\",\n",
    "    operating_mode=\"turbine\",\n",
    "    transient=False,\n",
    "    window_size=1,\n",
    "    device=\"cpu\",\n",
    "    features=[],\n",
    "    downsampling=32,\n",
    "    mean=training_dataset.mean,\n",
    "    std=training_dataset.std,\n",
    ")\n",
    "\n",
    "mask = np.isin(training_dataset.index.astype(\"datetime64[M]\").astype(int) % 12 + 1, [6, 7])\n",
    "\n",
    "col = np.nonzero(training_dataset.df.columns == \"stat_magn_agg\")[0]\n",
    "fig, ax = plt.subplots()\n",
    "ax.hist(training_dataset.measurements[mask, col], density=True, alpha=0.5, label=\"train\", bins=50)\n",
    "ax.hist(testing_dataset.measurements[:, col], density=True, alpha=0.5, label=\"test\", bins=50)\n",
    "ax.legend()"
   ]
  },
  {
   "cell_type": "code",
   "execution_count": null,
   "metadata": {},
   "outputs": [
    {
     "data": {
      "text/plain": [
       "'fig, ax = plt.subplots(1, 1, figsize=(22, 18))\\nsns.heatmap(training_dataset.corr(), cmap=\"vlag\", xticklabels=True, yticklabels=True)\\nax.set_title(f\"Correlation map for {unit}\")\\n\\ncomponents = pd.DataFrame(pca.components_, columns=data_train.columns)\\nfig, ax = plt.subplots(1, 1, figsize=(18, 14))\\nsns.heatmap(components.transpose(), cmap=\"vlag\", xticklabels=\"auto\", yticklabels=True)\\nax.set_title(f\"Principal components (eigenspace) map for {unit}\")'"
      ]
     },
     "execution_count": 4,
     "metadata": {},
     "output_type": "execute_result"
    }
   ],
   "source": [
    "\"\"\"fig, ax = plt.subplots(1, 1, figsize=(22, 18))\n",
    "sns.heatmap(training_dataset.corr(), cmap=\"vlag\", xticklabels=True, yticklabels=True)\n",
    "ax.set_title(f\"Correlation map for {unit}\")\n",
    "\n",
    "components = pd.DataFrame(pca.components_, columns=data_train.columns)\n",
    "fig, ax = plt.subplots(1, 1, figsize=(18, 14))\n",
    "sns.heatmap(components.transpose(), cmap=\"vlag\", xticklabels=\"auto\", yticklabels=True)\n",
    "ax.set_title(f\"Principal components (eigenspace) map for {unit}\")\"\"\""
   ]
  }
 ],
 "metadata": {
  "kernelspec": {
   "display_name": "ml4pm",
   "language": "python",
   "name": "python3"
  },
  "language_info": {
   "codemirror_mode": {
    "name": "ipython",
    "version": 3
   },
   "file_extension": ".py",
   "mimetype": "text/x-python",
   "name": "python",
   "nbconvert_exporter": "python",
   "pygments_lexer": "ipython3",
   "version": "3.12.4"
  }
 },
 "nbformat": 4,
 "nbformat_minor": 2
}
