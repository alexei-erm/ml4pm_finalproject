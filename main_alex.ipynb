{
 "cells": [
  {
   "cell_type": "code",
   "execution_count": 63,
   "metadata": {},
   "outputs": [
    {
     "name": "stdout",
     "output_type": "stream",
     "text": [
      "device is:  cpu\n",
      "The autoreload extension is already loaded. To reload it, use:\n",
      "  %reload_ext autoreload\n"
     ]
    }
   ],
   "source": [
    "from dataloader import *\n",
    "from model import *\n",
    "from utils import *\n",
    "\n",
    "path_to_data = 'Dataset/'\n",
    "# device = device_selection()\n",
    "device = 'cpu'\n",
    "print(\"device is: \",device)\n",
    "set_seed(42)\n",
    "\n",
    "%load_ext autoreload\n",
    "%autoreload 2"
   ]
  },
  {
   "cell_type": "code",
   "execution_count": 64,
   "metadata": {},
   "outputs": [],
   "source": [
    "dataset_vg5_turbine = Dataloader(\n",
    "    parquet_path=path_to_data+'VG5_generator_data_training_measurements.parquet',\n",
    "    info_csv_path=path_to_data+'VG5_generator_data_training_info.csv',\n",
    "    unit_id='VG5',\n",
    "    operating_mode='turbine_mode'\n",
    ")\n",
    "\n",
    "train_loader, val_loader, test_loader = create_dataloaders(dataset_vg5_turbine)\n"
   ]
  },
  {
   "cell_type": "code",
   "execution_count": null,
   "metadata": {},
   "outputs": [
    {
     "name": "stderr",
     "output_type": "stream",
     "text": [
      "Epoch 1/100: 100%|██████████| 7267/7267 [01:39<00:00, 73.19it/s, loss=209]    \n"
     ]
    },
    {
     "name": "stdout",
     "output_type": "stream",
     "text": [
      "Epoch [1/100], Train Loss: 209.361989, Val Loss: 1.934704\n"
     ]
    },
    {
     "name": "stderr",
     "output_type": "stream",
     "text": [
      "Epoch 2/100: 100%|██████████| 7267/7267 [01:32<00:00, 78.93it/s, loss=1.68]\n"
     ]
    },
    {
     "name": "stdout",
     "output_type": "stream",
     "text": [
      "Epoch [2/100], Train Loss: 1.678746, Val Loss: 1.503865\n"
     ]
    },
    {
     "name": "stderr",
     "output_type": "stream",
     "text": [
      "Epoch 3/100: 100%|██████████| 7267/7267 [01:36<00:00, 75.04it/s, loss=1.38]\n"
     ]
    },
    {
     "name": "stdout",
     "output_type": "stream",
     "text": [
      "Epoch [3/100], Train Loss: 1.378916, Val Loss: 5.132081\n"
     ]
    },
    {
     "name": "stderr",
     "output_type": "stream",
     "text": [
      "Epoch 4/100: 100%|██████████| 7267/7267 [01:31<00:00, 79.24it/s, loss=1.25]\n"
     ]
    },
    {
     "name": "stdout",
     "output_type": "stream",
     "text": [
      "Epoch [4/100], Train Loss: 1.249647, Val Loss: 0.900890\n"
     ]
    },
    {
     "name": "stderr",
     "output_type": "stream",
     "text": [
      "Epoch 5/100:  44%|████▍     | 3193/7267 [00:38<00:47, 85.45it/s, loss=1.18]"
     ]
    }
   ],
   "source": [
    "# init model\n",
    "input_channels = dataset_vg5_turbine.X.shape[1]  # Get number of control variables\n",
    "sequence_length = 50\n",
    "model = CNNAutoencoder(input_channels, sequence_length).to(device)\n",
    "\n",
    "# Train model\n",
    "train_losses, val_losses = train_autoencoder(model, train_loader, val_loader)"
   ]
  },
  {
   "cell_type": "code",
   "execution_count": null,
   "metadata": {},
   "outputs": [
    {
     "data": {
      "text/plain": [
       "torch.Size([332235, 6])"
      ]
     },
     "execution_count": 21,
     "metadata": {},
     "output_type": "execute_result"
    }
   ],
   "source": [
    "dataset_vg5_turbine.X.shape"
   ]
  },
  {
   "cell_type": "code",
   "execution_count": null,
   "metadata": {},
   "outputs": [],
   "source": []
  }
 ],
 "metadata": {
  "kernelspec": {
   "display_name": "venv4ml4pm",
   "language": "python",
   "name": "python3"
  },
  "language_info": {
   "codemirror_mode": {
    "name": "ipython",
    "version": 3
   },
   "file_extension": ".py",
   "mimetype": "text/x-python",
   "name": "python",
   "nbconvert_exporter": "python",
   "pygments_lexer": "ipython3",
   "version": "3.12.3"
  }
 },
 "nbformat": 4,
 "nbformat_minor": 2
}
